{
 "cells": [
  {
   "cell_type": "markdown",
   "metadata": {},
   "source": [
    "---\n",
    "# Setup\n",
    "\n",
    "* imports, \n",
    "* global constants (paths, time format, order of conditions)\n",
    "\n",
    "---"
   ]
  },
  {
   "cell_type": "code",
   "execution_count": 66,
   "metadata": {},
   "outputs": [],
   "source": [
    "# Imports and untilities from functions.ipynb\n",
    "\n",
    "%run functions.ipynb"
   ]
  },
  {
   "cell_type": "markdown",
   "metadata": {},
   "source": [
    "---\n",
    "# Load Data\n",
    "\n",
    "* load general data\n",
    "---"
   ]
  },
  {
   "cell_type": "code",
   "execution_count": 53,
   "metadata": {},
   "outputs": [
    {
     "data": {
      "text/html": [
       "<div>\n",
       "<style scoped>\n",
       "    .dataframe tbody tr th:only-of-type {\n",
       "        vertical-align: middle;\n",
       "    }\n",
       "\n",
       "    .dataframe tbody tr th {\n",
       "        vertical-align: top;\n",
       "    }\n",
       "\n",
       "    .dataframe thead th {\n",
       "        text-align: right;\n",
       "    }\n",
       "</style>\n",
       "<table border=\"1\" class=\"dataframe\">\n",
       "  <thead>\n",
       "    <tr style=\"text-align: right;\">\n",
       "      <th></th>\n",
       "      <th>Date</th>\n",
       "      <th>ProbandId</th>\n",
       "      <th>Age</th>\n",
       "      <th>Sex</th>\n",
       "      <th>Size</th>\n",
       "      <th>Education</th>\n",
       "      <th>Job</th>\n",
       "      <th>Industry</th>\n",
       "      <th>Experience_ElasticDisplays</th>\n",
       "      <th>Experience_Vibro</th>\n",
       "    </tr>\n",
       "  </thead>\n",
       "  <tbody>\n",
       "    <tr>\n",
       "      <th>0</th>\n",
       "      <td>2022/07/29 2:20:06 PM OEZ</td>\n",
       "      <td>0</td>\n",
       "      <td>42</td>\n",
       "      <td>männlich</td>\n",
       "      <td>165</td>\n",
       "      <td>Studium (Uni/FH)</td>\n",
       "      <td>Student</td>\n",
       "      <td>IT</td>\n",
       "      <td>4</td>\n",
       "      <td>5</td>\n",
       "    </tr>\n",
       "    <tr>\n",
       "      <th>1</th>\n",
       "      <td>2022/08/01 1:34:11 PM OEZ</td>\n",
       "      <td>1</td>\n",
       "      <td>47</td>\n",
       "      <td>männlich</td>\n",
       "      <td>180</td>\n",
       "      <td>Betriebswirt (WA)</td>\n",
       "      <td>Vertrieb IT</td>\n",
       "      <td>medizinische IT-Branche</td>\n",
       "      <td>1</td>\n",
       "      <td>5</td>\n",
       "    </tr>\n",
       "    <tr>\n",
       "      <th>2</th>\n",
       "      <td>2022/08/01 3:48:16 PM OEZ</td>\n",
       "      <td>2</td>\n",
       "      <td>40</td>\n",
       "      <td>männlich</td>\n",
       "      <td>168</td>\n",
       "      <td>Abitur</td>\n",
       "      <td>Softwareentwickler</td>\n",
       "      <td>Medizintechnik</td>\n",
       "      <td>1</td>\n",
       "      <td>6</td>\n",
       "    </tr>\n",
       "    <tr>\n",
       "      <th>3</th>\n",
       "      <td>2022/08/02 8:50:54 AM OEZ</td>\n",
       "      <td>3</td>\n",
       "      <td>34</td>\n",
       "      <td>männlich</td>\n",
       "      <td>175</td>\n",
       "      <td>Abitur</td>\n",
       "      <td>Vertrieb</td>\n",
       "      <td>IT</td>\n",
       "      <td>1</td>\n",
       "      <td>1</td>\n",
       "    </tr>\n",
       "    <tr>\n",
       "      <th>4</th>\n",
       "      <td>2022/08/04 3:27:11 PM OEZ</td>\n",
       "      <td>4</td>\n",
       "      <td>34</td>\n",
       "      <td>männlich</td>\n",
       "      <td>193</td>\n",
       "      <td>Studium (Uni/FH)</td>\n",
       "      <td>Software-Entwicklung</td>\n",
       "      <td>IT</td>\n",
       "      <td>1</td>\n",
       "      <td>2</td>\n",
       "    </tr>\n",
       "    <tr>\n",
       "      <th>5</th>\n",
       "      <td>2022/08/05 10:56:05 AM OEZ</td>\n",
       "      <td>5</td>\n",
       "      <td>26</td>\n",
       "      <td>männlich</td>\n",
       "      <td>191</td>\n",
       "      <td>Studium (Uni/FH)</td>\n",
       "      <td>Student</td>\n",
       "      <td>Informatik</td>\n",
       "      <td>2</td>\n",
       "      <td>5</td>\n",
       "    </tr>\n",
       "    <tr>\n",
       "      <th>6</th>\n",
       "      <td>2022/08/05 1:36:17 PM OEZ</td>\n",
       "      <td>6</td>\n",
       "      <td>25</td>\n",
       "      <td>divers</td>\n",
       "      <td>193</td>\n",
       "      <td>Abitur</td>\n",
       "      <td>Studierender</td>\n",
       "      <td>Architektur</td>\n",
       "      <td>1</td>\n",
       "      <td>4</td>\n",
       "    </tr>\n",
       "    <tr>\n",
       "      <th>7</th>\n",
       "      <td>2022/08/06 12:05:02 PM OEZ</td>\n",
       "      <td>7</td>\n",
       "      <td>26</td>\n",
       "      <td>weiblich</td>\n",
       "      <td>166</td>\n",
       "      <td>Studium (Uni/FH)</td>\n",
       "      <td>Softwareentwicklerin</td>\n",
       "      <td>Informatik</td>\n",
       "      <td>2</td>\n",
       "      <td>5</td>\n",
       "    </tr>\n",
       "    <tr>\n",
       "      <th>8</th>\n",
       "      <td>2022/08/08 9:01:46 AM OEZ</td>\n",
       "      <td>8</td>\n",
       "      <td>24</td>\n",
       "      <td>männlich</td>\n",
       "      <td>178</td>\n",
       "      <td>Studium (Uni/FH)</td>\n",
       "      <td>Student</td>\n",
       "      <td>IT-Branche</td>\n",
       "      <td>1</td>\n",
       "      <td>5</td>\n",
       "    </tr>\n",
       "    <tr>\n",
       "      <th>9</th>\n",
       "      <td>2022/08/08 1:33:05 PM OEZ</td>\n",
       "      <td>9</td>\n",
       "      <td>35</td>\n",
       "      <td>weiblich</td>\n",
       "      <td>168</td>\n",
       "      <td>Studium (Uni/FH)</td>\n",
       "      <td>Softwareentwicklerin</td>\n",
       "      <td>IT</td>\n",
       "      <td>1</td>\n",
       "      <td>2</td>\n",
       "    </tr>\n",
       "    <tr>\n",
       "      <th>10</th>\n",
       "      <td>2022/08/09 12:46:03 PM OEZ</td>\n",
       "      <td>10</td>\n",
       "      <td>25</td>\n",
       "      <td>männlich</td>\n",
       "      <td>176</td>\n",
       "      <td>Studium (Uni/FH)</td>\n",
       "      <td>Student</td>\n",
       "      <td>It</td>\n",
       "      <td>1</td>\n",
       "      <td>3</td>\n",
       "    </tr>\n",
       "    <tr>\n",
       "      <th>11</th>\n",
       "      <td>2022/08/09 3:55:49 PM OEZ</td>\n",
       "      <td>11</td>\n",
       "      <td>30</td>\n",
       "      <td>männlich</td>\n",
       "      <td>179</td>\n",
       "      <td>Abitur</td>\n",
       "      <td>Student</td>\n",
       "      <td>keine</td>\n",
       "      <td>1</td>\n",
       "      <td>1</td>\n",
       "    </tr>\n",
       "    <tr>\n",
       "      <th>12</th>\n",
       "      <td>2022/08/10 1:38:57 PM OEZ</td>\n",
       "      <td>12</td>\n",
       "      <td>23</td>\n",
       "      <td>männlich</td>\n",
       "      <td>175</td>\n",
       "      <td>Studium (Uni/FH)</td>\n",
       "      <td>Student</td>\n",
       "      <td>Informatik</td>\n",
       "      <td>1</td>\n",
       "      <td>1</td>\n",
       "    </tr>\n",
       "    <tr>\n",
       "      <th>13</th>\n",
       "      <td>2022/08/10 4:11:39 PM OEZ</td>\n",
       "      <td>13</td>\n",
       "      <td>34</td>\n",
       "      <td>männlich</td>\n",
       "      <td>188</td>\n",
       "      <td>Studium (Uni/FH)</td>\n",
       "      <td>Business Developer</td>\n",
       "      <td>IT</td>\n",
       "      <td>1</td>\n",
       "      <td>4</td>\n",
       "    </tr>\n",
       "    <tr>\n",
       "      <th>14</th>\n",
       "      <td>2022/08/10 6:11:06 PM OEZ</td>\n",
       "      <td>14</td>\n",
       "      <td>36</td>\n",
       "      <td>männlich</td>\n",
       "      <td>175</td>\n",
       "      <td>Abitur</td>\n",
       "      <td>Kundenberater</td>\n",
       "      <td>Software Entwicklung</td>\n",
       "      <td>1</td>\n",
       "      <td>4</td>\n",
       "    </tr>\n",
       "    <tr>\n",
       "      <th>15</th>\n",
       "      <td>2022/08/11 11:04:07 AM OEZ</td>\n",
       "      <td>15</td>\n",
       "      <td>27</td>\n",
       "      <td>männlich</td>\n",
       "      <td>187</td>\n",
       "      <td>Ausbildung</td>\n",
       "      <td>Student</td>\n",
       "      <td>Medieninformatik</td>\n",
       "      <td>2</td>\n",
       "      <td>4</td>\n",
       "    </tr>\n",
       "    <tr>\n",
       "      <th>16</th>\n",
       "      <td>2022/08/11 1:27:54 PM OEZ</td>\n",
       "      <td>16</td>\n",
       "      <td>22</td>\n",
       "      <td>männlich</td>\n",
       "      <td>175</td>\n",
       "      <td>Mittlere Reife (Realschule)</td>\n",
       "      <td>Fachinformatiker</td>\n",
       "      <td>Anwendungsentwicklung</td>\n",
       "      <td>1</td>\n",
       "      <td>1</td>\n",
       "    </tr>\n",
       "    <tr>\n",
       "      <th>17</th>\n",
       "      <td>2022/08/12 10:58:44 AM OEZ</td>\n",
       "      <td>17</td>\n",
       "      <td>26</td>\n",
       "      <td>männlich</td>\n",
       "      <td>187</td>\n",
       "      <td>Abitur</td>\n",
       "      <td>Studium</td>\n",
       "      <td>Medieninformatik</td>\n",
       "      <td>1</td>\n",
       "      <td>6</td>\n",
       "    </tr>\n",
       "    <tr>\n",
       "      <th>18</th>\n",
       "      <td>2022/08/12 1:31:52 PM OEZ</td>\n",
       "      <td>18</td>\n",
       "      <td>24</td>\n",
       "      <td>männlich</td>\n",
       "      <td>185</td>\n",
       "      <td>Abitur</td>\n",
       "      <td>Student</td>\n",
       "      <td>Maschinenbau</td>\n",
       "      <td>2</td>\n",
       "      <td>6</td>\n",
       "    </tr>\n",
       "    <tr>\n",
       "      <th>19</th>\n",
       "      <td>2022/08/15 3:42:31 PM OEZ</td>\n",
       "      <td>19</td>\n",
       "      <td>34</td>\n",
       "      <td>männlich</td>\n",
       "      <td>183</td>\n",
       "      <td>Ausbildung</td>\n",
       "      <td>Fachinformatiker für Anwendungsentwicklung</td>\n",
       "      <td>IT</td>\n",
       "      <td>1</td>\n",
       "      <td>3</td>\n",
       "    </tr>\n",
       "    <tr>\n",
       "      <th>20</th>\n",
       "      <td>2022/08/18 5:07:37 PM OEZ</td>\n",
       "      <td>20</td>\n",
       "      <td>37</td>\n",
       "      <td>männlich</td>\n",
       "      <td>183</td>\n",
       "      <td>Ausbildung</td>\n",
       "      <td>Software-Entwickler</td>\n",
       "      <td>Energie-Branche</td>\n",
       "      <td>1</td>\n",
       "      <td>3</td>\n",
       "    </tr>\n",
       "    <tr>\n",
       "      <th>21</th>\n",
       "      <td>2022/08/22 9:03:29 AM OEZ</td>\n",
       "      <td>21</td>\n",
       "      <td>39</td>\n",
       "      <td>männlich</td>\n",
       "      <td>180</td>\n",
       "      <td>Mittlere Reife (Realschule)</td>\n",
       "      <td>Polizeivollzugsbeamter</td>\n",
       "      <td>Öffentlicher Dienst</td>\n",
       "      <td>1</td>\n",
       "      <td>4</td>\n",
       "    </tr>\n",
       "    <tr>\n",
       "      <th>22</th>\n",
       "      <td>2022/08/23 9:07:49 AM OEZ</td>\n",
       "      <td>22</td>\n",
       "      <td>39</td>\n",
       "      <td>männlich</td>\n",
       "      <td>184</td>\n",
       "      <td>Studium (Uni/FH)</td>\n",
       "      <td>Selbstständig</td>\n",
       "      <td>Datenverarbeitung</td>\n",
       "      <td>1</td>\n",
       "      <td>1</td>\n",
       "    </tr>\n",
       "    <tr>\n",
       "      <th>23</th>\n",
       "      <td>2022/08/23 12:05:32 PM OEZ</td>\n",
       "      <td>23</td>\n",
       "      <td>35</td>\n",
       "      <td>männlich</td>\n",
       "      <td>179</td>\n",
       "      <td>Mittlere Reife (Realschule)</td>\n",
       "      <td>Koch</td>\n",
       "      <td>Gastronomie</td>\n",
       "      <td>1</td>\n",
       "      <td>1</td>\n",
       "    </tr>\n",
       "  </tbody>\n",
       "</table>\n",
       "</div>"
      ],
      "text/plain": [
       "                          Date  ProbandId  Age       Sex  Size  \\\n",
       "0    2022/07/29 2:20:06 PM OEZ          0   42  männlich   165   \n",
       "1    2022/08/01 1:34:11 PM OEZ          1   47  männlich   180   \n",
       "2    2022/08/01 3:48:16 PM OEZ          2   40  männlich   168   \n",
       "3    2022/08/02 8:50:54 AM OEZ          3   34  männlich   175   \n",
       "4    2022/08/04 3:27:11 PM OEZ          4   34  männlich   193   \n",
       "5   2022/08/05 10:56:05 AM OEZ          5   26  männlich   191   \n",
       "6    2022/08/05 1:36:17 PM OEZ          6   25    divers   193   \n",
       "7   2022/08/06 12:05:02 PM OEZ          7   26  weiblich   166   \n",
       "8    2022/08/08 9:01:46 AM OEZ          8   24  männlich   178   \n",
       "9    2022/08/08 1:33:05 PM OEZ          9   35  weiblich   168   \n",
       "10  2022/08/09 12:46:03 PM OEZ         10   25  männlich   176   \n",
       "11   2022/08/09 3:55:49 PM OEZ         11   30  männlich   179   \n",
       "12   2022/08/10 1:38:57 PM OEZ         12   23  männlich   175   \n",
       "13   2022/08/10 4:11:39 PM OEZ         13   34  männlich   188   \n",
       "14   2022/08/10 6:11:06 PM OEZ         14   36  männlich   175   \n",
       "15  2022/08/11 11:04:07 AM OEZ         15   27  männlich   187   \n",
       "16   2022/08/11 1:27:54 PM OEZ         16   22  männlich   175   \n",
       "17  2022/08/12 10:58:44 AM OEZ         17   26  männlich   187   \n",
       "18   2022/08/12 1:31:52 PM OEZ         18   24  männlich   185   \n",
       "19   2022/08/15 3:42:31 PM OEZ         19   34  männlich   183   \n",
       "20   2022/08/18 5:07:37 PM OEZ         20   37  männlich   183   \n",
       "21   2022/08/22 9:03:29 AM OEZ         21   39  männlich   180   \n",
       "22   2022/08/23 9:07:49 AM OEZ         22   39  männlich   184   \n",
       "23  2022/08/23 12:05:32 PM OEZ         23   35  männlich   179   \n",
       "\n",
       "                      Education                                         Job  \\\n",
       "0              Studium (Uni/FH)                                     Student   \n",
       "1             Betriebswirt (WA)                                 Vertrieb IT   \n",
       "2                        Abitur                          Softwareentwickler   \n",
       "3                        Abitur                                    Vertrieb   \n",
       "4              Studium (Uni/FH)                        Software-Entwicklung   \n",
       "5              Studium (Uni/FH)                                     Student   \n",
       "6                        Abitur                                Studierender   \n",
       "7              Studium (Uni/FH)                        Softwareentwicklerin   \n",
       "8              Studium (Uni/FH)                                     Student   \n",
       "9              Studium (Uni/FH)                        Softwareentwicklerin   \n",
       "10             Studium (Uni/FH)                                     Student   \n",
       "11                       Abitur                                     Student   \n",
       "12             Studium (Uni/FH)                                     Student   \n",
       "13             Studium (Uni/FH)                          Business Developer   \n",
       "14                       Abitur                               Kundenberater   \n",
       "15                   Ausbildung                                     Student   \n",
       "16  Mittlere Reife (Realschule)                           Fachinformatiker    \n",
       "17                       Abitur                                     Studium   \n",
       "18                       Abitur                                     Student   \n",
       "19                   Ausbildung  Fachinformatiker für Anwendungsentwicklung   \n",
       "20                   Ausbildung                         Software-Entwickler   \n",
       "21  Mittlere Reife (Realschule)                      Polizeivollzugsbeamter   \n",
       "22             Studium (Uni/FH)                               Selbstständig   \n",
       "23  Mittlere Reife (Realschule)                                        Koch   \n",
       "\n",
       "                   Industry  Experience_ElasticDisplays  Experience_Vibro  \n",
       "0                        IT                           4                 5  \n",
       "1   medizinische IT-Branche                           1                 5  \n",
       "2            Medizintechnik                           1                 6  \n",
       "3                        IT                           1                 1  \n",
       "4                        IT                           1                 2  \n",
       "5                Informatik                           2                 5  \n",
       "6               Architektur                           1                 4  \n",
       "7                Informatik                           2                 5  \n",
       "8                IT-Branche                           1                 5  \n",
       "9                        IT                           1                 2  \n",
       "10                       It                           1                 3  \n",
       "11                    keine                           1                 1  \n",
       "12               Informatik                           1                 1  \n",
       "13                       IT                           1                 4  \n",
       "14    Software Entwicklung                            1                 4  \n",
       "15         Medieninformatik                           2                 4  \n",
       "16    Anwendungsentwicklung                           1                 1  \n",
       "17        Medieninformatik                            1                 6  \n",
       "18             Maschinenbau                           2                 6  \n",
       "19                       IT                           1                 3  \n",
       "20          Energie-Branche                           1                 3  \n",
       "21      Öffentlicher Dienst                           1                 4  \n",
       "22        Datenverarbeitung                           1                 1  \n",
       "23             Gastronomie                            1                 1  "
      ]
     },
     "metadata": {},
     "output_type": "display_data"
    },
    {
     "data": {
      "text/html": [
       "<div>\n",
       "<style scoped>\n",
       "    .dataframe tbody tr th:only-of-type {\n",
       "        vertical-align: middle;\n",
       "    }\n",
       "\n",
       "    .dataframe tbody tr th {\n",
       "        vertical-align: top;\n",
       "    }\n",
       "\n",
       "    .dataframe thead th {\n",
       "        text-align: right;\n",
       "    }\n",
       "</style>\n",
       "<table border=\"1\" class=\"dataframe\">\n",
       "  <thead>\n",
       "    <tr style=\"text-align: right;\">\n",
       "      <th></th>\n",
       "      <th>ProbandId</th>\n",
       "      <th>Age</th>\n",
       "      <th>Size</th>\n",
       "      <th>Experience_ElasticDisplays</th>\n",
       "      <th>Experience_Vibro</th>\n",
       "    </tr>\n",
       "  </thead>\n",
       "  <tbody>\n",
       "    <tr>\n",
       "      <th>count</th>\n",
       "      <td>24.000000</td>\n",
       "      <td>24.000000</td>\n",
       "      <td>24.000000</td>\n",
       "      <td>24.000000</td>\n",
       "      <td>24.000000</td>\n",
       "    </tr>\n",
       "    <tr>\n",
       "      <th>mean</th>\n",
       "      <td>11.500000</td>\n",
       "      <td>31.833333</td>\n",
       "      <td>179.708333</td>\n",
       "      <td>1.291667</td>\n",
       "      <td>3.416667</td>\n",
       "    </tr>\n",
       "    <tr>\n",
       "      <th>std</th>\n",
       "      <td>7.071068</td>\n",
       "      <td>6.932386</td>\n",
       "      <td>8.099808</td>\n",
       "      <td>0.690253</td>\n",
       "      <td>1.791688</td>\n",
       "    </tr>\n",
       "    <tr>\n",
       "      <th>min</th>\n",
       "      <td>0.000000</td>\n",
       "      <td>22.000000</td>\n",
       "      <td>165.000000</td>\n",
       "      <td>1.000000</td>\n",
       "      <td>1.000000</td>\n",
       "    </tr>\n",
       "    <tr>\n",
       "      <th>25%</th>\n",
       "      <td>5.750000</td>\n",
       "      <td>25.750000</td>\n",
       "      <td>175.000000</td>\n",
       "      <td>1.000000</td>\n",
       "      <td>1.750000</td>\n",
       "    </tr>\n",
       "    <tr>\n",
       "      <th>50%</th>\n",
       "      <td>11.500000</td>\n",
       "      <td>34.000000</td>\n",
       "      <td>179.500000</td>\n",
       "      <td>1.000000</td>\n",
       "      <td>4.000000</td>\n",
       "    </tr>\n",
       "    <tr>\n",
       "      <th>75%</th>\n",
       "      <td>17.250000</td>\n",
       "      <td>36.250000</td>\n",
       "      <td>185.500000</td>\n",
       "      <td>1.000000</td>\n",
       "      <td>5.000000</td>\n",
       "    </tr>\n",
       "    <tr>\n",
       "      <th>max</th>\n",
       "      <td>23.000000</td>\n",
       "      <td>47.000000</td>\n",
       "      <td>193.000000</td>\n",
       "      <td>4.000000</td>\n",
       "      <td>6.000000</td>\n",
       "    </tr>\n",
       "  </tbody>\n",
       "</table>\n",
       "</div>"
      ],
      "text/plain": [
       "       ProbandId        Age        Size  Experience_ElasticDisplays  \\\n",
       "count  24.000000  24.000000   24.000000                   24.000000   \n",
       "mean   11.500000  31.833333  179.708333                    1.291667   \n",
       "std     7.071068   6.932386    8.099808                    0.690253   \n",
       "min     0.000000  22.000000  165.000000                    1.000000   \n",
       "25%     5.750000  25.750000  175.000000                    1.000000   \n",
       "50%    11.500000  34.000000  179.500000                    1.000000   \n",
       "75%    17.250000  36.250000  185.500000                    1.000000   \n",
       "max    23.000000  47.000000  193.000000                    4.000000   \n",
       "\n",
       "       Experience_Vibro  \n",
       "count         24.000000  \n",
       "mean           3.416667  \n",
       "std            1.791688  \n",
       "min            1.000000  \n",
       "25%            1.750000  \n",
       "50%            4.000000  \n",
       "75%            5.000000  \n",
       "max            6.000000  "
      ]
     },
     "metadata": {},
     "output_type": "display_data"
    }
   ],
   "source": [
    "general_data = pd.read_csv(rf'{path_questionnaires}Allgemeine_Angaben.csv', sep=\",\")\n",
    "\n",
    "general_data.columns=['Date', 'ProbandId', 'Age', 'Sex', 'Size', 'Education', 'Job', 'Industry', 'Experience_ElasticDisplays', 'Experience_Vibro']\n",
    "\n",
    "display(general_data)\n",
    "\n",
    "display(general_data.describe())\n"
   ]
  },
  {
   "cell_type": "markdown",
   "metadata": {},
   "source": [
    "# Correlations"
   ]
  },
  {
   "cell_type": "code",
   "execution_count": 75,
   "metadata": {},
   "outputs": [
    {
     "data": {
      "text/html": [
       "<div>\n",
       "<style scoped>\n",
       "    .dataframe tbody tr th:only-of-type {\n",
       "        vertical-align: middle;\n",
       "    }\n",
       "\n",
       "    .dataframe tbody tr th {\n",
       "        vertical-align: top;\n",
       "    }\n",
       "\n",
       "    .dataframe thead th {\n",
       "        text-align: right;\n",
       "    }\n",
       "</style>\n",
       "<table border=\"1\" class=\"dataframe\">\n",
       "  <thead>\n",
       "    <tr style=\"text-align: right;\">\n",
       "      <th></th>\n",
       "      <th>Age</th>\n",
       "      <th>Size</th>\n",
       "      <th>Experience_ElasticDisplays</th>\n",
       "      <th>Experience_Vibro</th>\n",
       "    </tr>\n",
       "  </thead>\n",
       "  <tbody>\n",
       "    <tr>\n",
       "      <th>Age</th>\n",
       "      <td>1.000000</td>\n",
       "      <td>-0.110057</td>\n",
       "      <td>-0.099157</td>\n",
       "      <td>0.032248</td>\n",
       "    </tr>\n",
       "    <tr>\n",
       "      <th>Size</th>\n",
       "      <td>-0.110057</td>\n",
       "      <td>1.000000</td>\n",
       "      <td>-0.024742</td>\n",
       "      <td>0.068397</td>\n",
       "    </tr>\n",
       "    <tr>\n",
       "      <th>Experience_ElasticDisplays</th>\n",
       "      <td>-0.099157</td>\n",
       "      <td>-0.024742</td>\n",
       "      <td>1.000000</td>\n",
       "      <td>0.413919</td>\n",
       "    </tr>\n",
       "    <tr>\n",
       "      <th>Experience_Vibro</th>\n",
       "      <td>0.032248</td>\n",
       "      <td>0.068397</td>\n",
       "      <td>0.413919</td>\n",
       "      <td>1.000000</td>\n",
       "    </tr>\n",
       "  </tbody>\n",
       "</table>\n",
       "</div>"
      ],
      "text/plain": [
       "                                 Age      Size  Experience_ElasticDisplays  \\\n",
       "Age                         1.000000 -0.110057                   -0.099157   \n",
       "Size                       -0.110057  1.000000                   -0.024742   \n",
       "Experience_ElasticDisplays -0.099157 -0.024742                    1.000000   \n",
       "Experience_Vibro            0.032248  0.068397                    0.413919   \n",
       "\n",
       "                            Experience_Vibro  \n",
       "Age                                 0.032248  \n",
       "Size                                0.068397  \n",
       "Experience_ElasticDisplays          0.413919  \n",
       "Experience_Vibro                    1.000000  "
      ]
     },
     "metadata": {},
     "output_type": "display_data"
    },
    {
     "data": {
      "text/html": [
       "<div>\n",
       "<style scoped>\n",
       "    .dataframe tbody tr th:only-of-type {\n",
       "        vertical-align: middle;\n",
       "    }\n",
       "\n",
       "    .dataframe tbody tr th {\n",
       "        vertical-align: top;\n",
       "    }\n",
       "\n",
       "    .dataframe thead th {\n",
       "        text-align: right;\n",
       "    }\n",
       "</style>\n",
       "<table border=\"1\" class=\"dataframe\">\n",
       "  <thead>\n",
       "    <tr style=\"text-align: right;\">\n",
       "      <th></th>\n",
       "      <th>Age</th>\n",
       "      <th>Size</th>\n",
       "      <th>Experience_ElasticDisplays</th>\n",
       "      <th>Experience_Vibro</th>\n",
       "    </tr>\n",
       "  </thead>\n",
       "  <tbody>\n",
       "    <tr>\n",
       "      <th>Age</th>\n",
       "      <td>1.000000</td>\n",
       "      <td>-0.156154</td>\n",
       "      <td>-0.109570</td>\n",
       "      <td>0.053140</td>\n",
       "    </tr>\n",
       "    <tr>\n",
       "      <th>Size</th>\n",
       "      <td>-0.156154</td>\n",
       "      <td>1.000000</td>\n",
       "      <td>-0.035479</td>\n",
       "      <td>0.090010</td>\n",
       "    </tr>\n",
       "    <tr>\n",
       "      <th>Experience_ElasticDisplays</th>\n",
       "      <td>-0.109570</td>\n",
       "      <td>-0.035479</td>\n",
       "      <td>1.000000</td>\n",
       "      <td>0.474201</td>\n",
       "    </tr>\n",
       "    <tr>\n",
       "      <th>Experience_Vibro</th>\n",
       "      <td>0.053140</td>\n",
       "      <td>0.090010</td>\n",
       "      <td>0.474201</td>\n",
       "      <td>1.000000</td>\n",
       "    </tr>\n",
       "  </tbody>\n",
       "</table>\n",
       "</div>"
      ],
      "text/plain": [
       "                                 Age      Size  Experience_ElasticDisplays  \\\n",
       "Age                         1.000000 -0.156154                   -0.109570   \n",
       "Size                       -0.156154  1.000000                   -0.035479   \n",
       "Experience_ElasticDisplays -0.109570 -0.035479                    1.000000   \n",
       "Experience_Vibro            0.053140  0.090010                    0.474201   \n",
       "\n",
       "                            Experience_Vibro  \n",
       "Age                                 0.053140  \n",
       "Size                                0.090010  \n",
       "Experience_ElasticDisplays          0.474201  \n",
       "Experience_Vibro                    1.000000  "
      ]
     },
     "metadata": {},
     "output_type": "display_data"
    },
    {
     "data": {
      "image/png": "[encoded data removed]",
      "text/plain": [
       "<Figure size 576x576 with 2 Axes>"
      ]
     },
     "metadata": {},
     "output_type": "display_data"
    },
    {
     "data": {
      "image/png": "[encoded data removed]",
      "text/plain": [
       "<Figure size 576x576 with 2 Axes>"
      ]
     },
     "metadata": {},
     "output_type": "display_data"
    }
   ],
   "source": [
    "correlations_kendall = general_data.iloc[:,2:].corr(method='kendall', min_periods=1)\n",
    "display(correlations_kendall)\n",
    "\n",
    "fig1, ax1 = plt.subplots(figsize=(8,8))\n",
    "sns.heatmap(correlations_kendall, annot=True)\n",
    "\n",
    "\n",
    "fig1.savefig(rf'{export_img_questionnaire}correlation_kendall.png')\n",
    "fig1.savefig(rf'{export_img_questionnaire}correlation_kendall.svg')\n",
    "\n",
    "correlations_spearman = general_data.iloc[:,2:].corr(method='spearman', min_periods=1)\n",
    "display(correlations_spearman)\n",
    "\n",
    "fig2, ax2 = plt.subplots(figsize=(8,8))\n",
    "sns.heatmap(correlations_spearman, annot=True)\n",
    "\n",
    "fig2.savefig(rf'{export_img_questionnaire}correlation_spearmen.png')\n",
    "fig2.savefig(rf'{export_img_questionnaire}correlation_spearmen.svg')\n"
   ]
  },
  {
   "cell_type": "markdown",
   "metadata": {},
   "source": [
    "# Descriptive Stats"
   ]
  },
  {
   "cell_type": "code",
   "execution_count": 68,
   "metadata": {},
   "outputs": [
    {
     "data": {
      "text/html": [
       "<div>\n",
       "<style scoped>\n",
       "    .dataframe tbody tr th:only-of-type {\n",
       "        vertical-align: middle;\n",
       "    }\n",
       "\n",
       "    .dataframe tbody tr th {\n",
       "        vertical-align: top;\n",
       "    }\n",
       "\n",
       "    .dataframe thead th {\n",
       "        text-align: right;\n",
       "    }\n",
       "</style>\n",
       "<table border=\"1\" class=\"dataframe\">\n",
       "  <thead>\n",
       "    <tr style=\"text-align: right;\">\n",
       "      <th></th>\n",
       "      <th>ProbandId</th>\n",
       "      <th>Age</th>\n",
       "      <th>Size</th>\n",
       "      <th>Experience_ElasticDisplays</th>\n",
       "      <th>Experience_Vibro</th>\n",
       "    </tr>\n",
       "  </thead>\n",
       "  <tbody>\n",
       "    <tr>\n",
       "      <th>count</th>\n",
       "      <td>24.000000</td>\n",
       "      <td>24.000000</td>\n",
       "      <td>24.000000</td>\n",
       "      <td>24.000000</td>\n",
       "      <td>24.000000</td>\n",
       "    </tr>\n",
       "    <tr>\n",
       "      <th>mean</th>\n",
       "      <td>11.500000</td>\n",
       "      <td>31.833333</td>\n",
       "      <td>179.708333</td>\n",
       "      <td>1.291667</td>\n",
       "      <td>3.416667</td>\n",
       "    </tr>\n",
       "    <tr>\n",
       "      <th>std</th>\n",
       "      <td>7.071068</td>\n",
       "      <td>6.932386</td>\n",
       "      <td>8.099808</td>\n",
       "      <td>0.690253</td>\n",
       "      <td>1.791688</td>\n",
       "    </tr>\n",
       "    <tr>\n",
       "      <th>min</th>\n",
       "      <td>0.000000</td>\n",
       "      <td>22.000000</td>\n",
       "      <td>165.000000</td>\n",
       "      <td>1.000000</td>\n",
       "      <td>1.000000</td>\n",
       "    </tr>\n",
       "    <tr>\n",
       "      <th>25%</th>\n",
       "      <td>5.750000</td>\n",
       "      <td>25.750000</td>\n",
       "      <td>175.000000</td>\n",
       "      <td>1.000000</td>\n",
       "      <td>1.750000</td>\n",
       "    </tr>\n",
       "    <tr>\n",
       "      <th>50%</th>\n",
       "      <td>11.500000</td>\n",
       "      <td>34.000000</td>\n",
       "      <td>179.500000</td>\n",
       "      <td>1.000000</td>\n",
       "      <td>4.000000</td>\n",
       "    </tr>\n",
       "    <tr>\n",
       "      <th>75%</th>\n",
       "      <td>17.250000</td>\n",
       "      <td>36.250000</td>\n",
       "      <td>185.500000</td>\n",
       "      <td>1.000000</td>\n",
       "      <td>5.000000</td>\n",
       "    </tr>\n",
       "    <tr>\n",
       "      <th>max</th>\n",
       "      <td>23.000000</td>\n",
       "      <td>47.000000</td>\n",
       "      <td>193.000000</td>\n",
       "      <td>4.000000</td>\n",
       "      <td>6.000000</td>\n",
       "    </tr>\n",
       "  </tbody>\n",
       "</table>\n",
       "</div>"
      ],
      "text/plain": [
       "       ProbandId        Age        Size  Experience_ElasticDisplays  \\\n",
       "count  24.000000  24.000000   24.000000                   24.000000   \n",
       "mean   11.500000  31.833333  179.708333                    1.291667   \n",
       "std     7.071068   6.932386    8.099808                    0.690253   \n",
       "min     0.000000  22.000000  165.000000                    1.000000   \n",
       "25%     5.750000  25.750000  175.000000                    1.000000   \n",
       "50%    11.500000  34.000000  179.500000                    1.000000   \n",
       "75%    17.250000  36.250000  185.500000                    1.000000   \n",
       "max    23.000000  47.000000  193.000000                    4.000000   \n",
       "\n",
       "       Experience_Vibro  \n",
       "count         24.000000  \n",
       "mean           3.416667  \n",
       "std            1.791688  \n",
       "min            1.000000  \n",
       "25%            1.750000  \n",
       "50%            4.000000  \n",
       "75%            5.000000  \n",
       "max            6.000000  "
      ]
     },
     "execution_count": 68,
     "metadata": {},
     "output_type": "execute_result"
    }
   ],
   "source": [
    "general_data.describe()"
   ]
  },
  {
   "cell_type": "markdown",
   "metadata": {},
   "source": [
    "# Age / Size"
   ]
  },
  {
   "cell_type": "code",
   "execution_count": 70,
   "metadata": {},
   "outputs": [
    {
     "data": {
      "application/vnd.plotly.v1+json": {
       "config": {
        "plotlyServerURL": "https://plot.ly"
       },
       "data": [
        {
         "jitter": 0.5,
         "meanline": {
          "visible": true
         },
         "name": "male",
         "points": "all",
         "scalegroup": "Age",
         "scalemode": "count",
         "type": "violin",
         "y": [
          42,
          47,
          40,
          34,
          34,
          26,
          24,
          25,
          30,
          23,
          34,
          36,
          27,
          22,
          26,
          24,
          34,
          37,
          39,
          39,
          35
         ]
        },
        {
         "jitter": 0.5,
         "meanline": {
          "visible": true
         },
         "name": "all",
         "points": "all",
         "scalegroup": "Age",
         "scalemode": "count",
         "type": "violin",
         "y": [
          42,
          47,
          40,
          34,
          34,
          26,
          25,
          26,
          24,
          35,
          25,
          30,
          23,
          34,
          36,
          27,
          22,
          26,
          24,
          34,
          37,
          39,
          39,
          35
         ]
        },
        {
         "jitter": 0.5,
         "meanline": {
          "visible": true
         },
         "name": "female",
         "points": "all",
         "scalegroup": "Age",
         "scalemode": "count",
         "type": "violin",
         "y": [
          26,
          35
         ]
        }
       ],
       "layout": {
        "showlegend": true,
        "template": {
         "data": {
          "bar": [
           {
            "error_x": {
             "color": "#2a3f5f"
            },
            "error_y": {
             "color": "#2a3f5f"
            },
            "marker": {
             "line": {
              "color": "#E5ECF6",
              "width": 0.5
             },
             "pattern": {
              "fillmode": "overlay",
              "size": 10,
              "solidity": 0.2
             }
            },
            "type": "bar"
           }
          ],
          "barpolar": [
           {
            "marker": {
             "line": {
              "color": "#E5ECF6",
              "width": 0.5
             },
             "pattern": {
              "fillmode": "overlay",
              "size": 10,
              "solidity": 0.2
             }
            },
            "type": "barpolar"
           }
          ],
          "carpet": [
           {
            "aaxis": {
             "endlinecolor": "#2a3f5f",
             "gridcolor": "white",
             "linecolor": "white",
             "minorgridcolor": "white",
             "startlinecolor": "#2a3f5f"
            },
            "baxis": {
             "endlinecolor": "#2a3f5f",
             "gridcolor": "white",
             "linecolor": "white",
             "minorgridcolor": "white",
             "startlinecolor": "#2a3f5f"
            },
            "type": "carpet"
           }
          ],
          "choropleth": [
           {
            "colorbar": {
             "outlinewidth": 0,
             "ticks": ""
            },
            "type": "choropleth"
           }
          ],
          "contour": [
           {
            "colorbar": {
             "outlinewidth": 0,
             "ticks": ""
            },
            "colorscale": [
             [
              0,
              "#0d0887"
             ],
             [
              0.1111111111111111,
              "#46039f"
             ],
             [
              0.2222222222222222,
              "#7201a8"
             ],
             [
              0.3333333333333333,
              "#9c179e"
             ],
             [
              0.4444444444444444,
              "#bd3786"
             ],
             [
              0.5555555555555556,
              "#d8576b"
             ],
             [
              0.6666666666666666,
              "#ed7953"
             ],
             [
              0.7777777777777778,
              "#fb9f3a"
             ],
             [
              0.8888888888888888,
              "#fdca26"
             ],
             [
              1,
              "#f0f921"
             ]
            ],
            "type": "contour"
           }
          ],
          "contourcarpet": [
           {
            "colorbar": {
             "outlinewidth": 0,
             "ticks": ""
            },
            "type": "contourcarpet"
           }
          ],
          "heatmap": [
           {
            "colorbar": {
             "outlinewidth": 0,
             "ticks": ""
            },
            "colorscale": [
             [
              0,
              "#0d0887"
             ],
             [
              0.1111111111111111,
              "#46039f"
             ],
             [
              0.2222222222222222,
              "#7201a8"
             ],
             [
              0.3333333333333333,
              "#9c179e"
             ],
             [
              0.4444444444444444,
              "#bd3786"
             ],
             [
              0.5555555555555556,
              "#d8576b"
             ],
             [
              0.6666666666666666,
              "#ed7953"
             ],
             [
              0.7777777777777778,
              "#fb9f3a"
             ],
             [
              0.8888888888888888,
              "#fdca26"
             ],
             [
              1,
              "#f0f921"
             ]
            ],
            "type": "heatmap"
           }
          ],
          "heatmapgl": [
           {
            "colorbar": {
             "outlinewidth": 0,
             "ticks": ""
            },
            "colorscale": [
             [
              0,
              "#0d0887"
             ],
             [
              0.1111111111111111,
              "#46039f"
             ],
             [
              0.2222222222222222,
              "#7201a8"
             ],
             [
              0.3333333333333333,
              "#9c179e"
             ],
             [
              0.4444444444444444,
              "#bd3786"
             ],
             [
              0.5555555555555556,
              "#d8576b"
             ],
             [
              0.6666666666666666,
              "#ed7953"
             ],
             [
              0.7777777777777778,
              "#fb9f3a"
             ],
             [
              0.8888888888888888,
              "#fdca26"
             ],
             [
              1,
              "#f0f921"
             ]
            ],
            "type": "heatmapgl"
           }
          ],
          "histogram": [
           {
            "marker": {
             "pattern": {
              "fillmode": "overlay",
              "size": 10,
              "solidity": 0.2
             }
            },
            "type": "histogram"
           }
          ],
          "histogram2d": [
           {
            "colorbar": {
             "outlinewidth": 0,
             "ticks": ""
            },
            "colorscale": [
             [
              0,
              "#0d0887"
             ],
             [
              0.1111111111111111,
              "#46039f"
             ],
             [
              0.2222222222222222,
              "#7201a8"
             ],
             [
              0.3333333333333333,
              "#9c179e"
             ],
             [
              0.4444444444444444,
              "#bd3786"
             ],
             [
              0.5555555555555556,
              "#d8576b"
             ],
             [
              0.6666666666666666,
              "#ed7953"
             ],
             [
              0.7777777777777778,
              "#fb9f3a"
             ],
             [
              0.8888888888888888,
              "#fdca26"
             ],
             [
              1,
              "#f0f921"
             ]
            ],
            "type": "histogram2d"
           }
          ],
          "histogram2dcontour": [
           {
            "colorbar": {
             "outlinewidth": 0,
             "ticks": ""
            },
            "colorscale": [
             [
              0,
              "#0d0887"
             ],
             [
              0.1111111111111111,
              "#46039f"
             ],
             [
              0.2222222222222222,
              "#7201a8"
             ],
             [
              0.3333333333333333,
              "#9c179e"
             ],
             [
              0.4444444444444444,
              "#bd3786"
             ],
             [
              0.5555555555555556,
              "#d8576b"
             ],
             [
              0.6666666666666666,
              "#ed7953"
             ],
             [
              0.7777777777777778,
              "#fb9f3a"
             ],
             [
              0.8888888888888888,
              "#fdca26"
             ],
             [
              1,
              "#f0f921"
             ]
            ],
            "type": "histogram2dcontour"
           }
          ],
          "mesh3d": [
           {
            "colorbar": {
             "outlinewidth": 0,
             "ticks": ""
            },
            "type": "mesh3d"
           }
          ],
          "parcoords": [
           {
            "line": {
             "colorbar": {
              "outlinewidth": 0,
              "ticks": ""
             }
            },
            "type": "parcoords"
           }
          ],
          "pie": [
           {
            "automargin": true,
            "type": "pie"
           }
          ],
          "scatter": [
           {
            "marker": {
             "colorbar": {
              "outlinewidth": 0,
              "ticks": ""
             }
            },
            "type": "scatter"
           }
          ],
          "scatter3d": [
           {
            "line": {
             "colorbar": {
              "outlinewidth": 0,
              "ticks": ""
             }
            },
            "marker": {
             "colorbar": {
              "outlinewidth": 0,
              "ticks": ""
             }
            },
            "type": "scatter3d"
           }
          ],
          "scattercarpet": [
           {
            "marker": {
             "colorbar": {
              "outlinewidth": 0,
              "ticks": ""
             }
            },
            "type": "scattercarpet"
           }
          ],
          "scattergeo": [
           {
            "marker": {
             "colorbar": {
              "outlinewidth": 0,
              "ticks": ""
             }
            },
            "type": "scattergeo"
           }
          ],
          "scattergl": [
           {
            "marker": {
             "colorbar": {
              "outlinewidth": 0,
              "ticks": ""
             }
            },
            "type": "scattergl"
           }
          ],
          "scattermapbox": [
           {
            "marker": {
             "colorbar": {
              "outlinewidth": 0,
              "ticks": ""
             }
            },
            "type": "scattermapbox"
           }
          ],
          "scatterpolar": [
           {
            "marker": {
             "colorbar": {
              "outlinewidth": 0,
              "ticks": ""
             }
            },
            "type": "scatterpolar"
           }
          ],
          "scatterpolargl": [
           {
            "marker": {
             "colorbar": {
              "outlinewidth": 0,
              "ticks": ""
             }
            },
            "type": "scatterpolargl"
           }
          ],
          "scatterternary": [
           {
            "marker": {
             "colorbar": {
              "outlinewidth": 0,
              "ticks": ""
             }
            },
            "type": "scatterternary"
           }
          ],
          "surface": [
           {
            "colorbar": {
             "outlinewidth": 0,
             "ticks": ""
            },
            "colorscale": [
             [
              0,
              "#0d0887"
             ],
             [
              0.1111111111111111,
              "#46039f"
             ],
             [
              0.2222222222222222,
              "#7201a8"
             ],
             [
              0.3333333333333333,
              "#9c179e"
             ],
             [
              0.4444444444444444,
              "#bd3786"
             ],
             [
              0.5555555555555556,
              "#d8576b"
             ],
             [
              0.6666666666666666,
              "#ed7953"
             ],
             [
              0.7777777777777778,
              "#fb9f3a"
             ],
             [
              0.8888888888888888,
              "#fdca26"
             ],
             [
              1,
              "#f0f921"
             ]
            ],
            "type": "surface"
           }
          ],
          "table": [
           {
            "cells": {
             "fill": {
              "color": "#EBF0F8"
             },
             "line": {
              "color": "white"
             }
            },
            "header": {
             "fill": {
              "color": "#C8D4E3"
             },
             "line": {
              "color": "white"
             }
            },
            "type": "table"
           }
          ]
         },
         "layout": {
          "annotationdefaults": {
           "arrowcolor": "#2a3f5f",
           "arrowhead": 0,
           "arrowwidth": 1
          },
          "autotypenumbers": "strict",
          "coloraxis": {
           "colorbar": {
            "outlinewidth": 0,
            "ticks": ""
           }
          },
          "colorscale": {
           "diverging": [
            [
             0,
             "#8e0152"
            ],
            [
             0.1,
             "#c51b7d"
            ],
            [
             0.2,
             "#de77ae"
            ],
            [
             0.3,
             "#f1b6da"
            ],
            [
             0.4,
             "#fde0ef"
            ],
            [
             0.5,
             "#f7f7f7"
            ],
            [
             0.6,
             "#e6f5d0"
            ],
            [
             0.7,
             "#b8e186"
            ],
            [
             0.8,
             "#7fbc41"
            ],
            [
             0.9,
             "#4d9221"
            ],
            [
             1,
             "#276419"
            ]
           ],
           "sequential": [
            [
             0,
             "#0d0887"
            ],
            [
             0.1111111111111111,
             "#46039f"
            ],
            [
             0.2222222222222222,
             "#7201a8"
            ],
            [
             0.3333333333333333,
             "#9c179e"
            ],
            [
             0.4444444444444444,
             "#bd3786"
            ],
            [
             0.5555555555555556,
             "#d8576b"
            ],
            [
             0.6666666666666666,
             "#ed7953"
            ],
            [
             0.7777777777777778,
             "#fb9f3a"
            ],
            [
             0.8888888888888888,
             "#fdca26"
            ],
            [
             1,
             "#f0f921"
            ]
           ],
           "sequentialminus": [
            [
             0,
             "#0d0887"
            ],
            [
             0.1111111111111111,
             "#46039f"
            ],
            [
             0.2222222222222222,
             "#7201a8"
            ],
            [
             0.3333333333333333,
             "#9c179e"
            ],
            [
             0.4444444444444444,
             "#bd3786"
            ],
            [
             0.5555555555555556,
             "#d8576b"
            ],
            [
             0.6666666666666666,
             "#ed7953"
            ],
            [
             0.7777777777777778,
             "#fb9f3a"
            ],
            [
             0.8888888888888888,
             "#fdca26"
            ],
            [
             1,
             "#f0f921"
            ]
           ]
          },
          "colorway": [
           "#636efa",
           "#EF553B",
           "#00cc96",
           "#ab63fa",
           "#FFA15A",
           "#19d3f3",
           "#FF6692",
           "#B6E880",
           "#FF97FF",
           "#FECB52"
          ],
          "font": {
           "color": "#2a3f5f"
          },
          "geo": {
           "bgcolor": "white",
           "lakecolor": "white",
           "landcolor": "#E5ECF6",
           "showlakes": true,
           "showland": true,
           "subunitcolor": "white"
          },
          "hoverlabel": {
           "align": "left"
          },
          "hovermode": "closest",
          "mapbox": {
           "style": "light"
          },
          "paper_bgcolor": "white",
          "plot_bgcolor": "#E5ECF6",
          "polar": {
           "angularaxis": {
            "gridcolor": "white",
            "linecolor": "white",
            "ticks": ""
           },
           "bgcolor": "#E5ECF6",
           "radialaxis": {
            "gridcolor": "white",
            "linecolor": "white",
            "ticks": ""
           }
          },
          "scene": {
           "xaxis": {
            "backgroundcolor": "#E5ECF6",
            "gridcolor": "white",
            "gridwidth": 2,
            "linecolor": "white",
            "showbackground": true,
            "ticks": "",
            "zerolinecolor": "white"
           },
           "yaxis": {
            "backgroundcolor": "#E5ECF6",
            "gridcolor": "white",
            "gridwidth": 2,
            "linecolor": "white",
            "showbackground": true,
            "ticks": "",
            "zerolinecolor": "white"
           },
           "zaxis": {
            "backgroundcolor": "#E5ECF6",
            "gridcolor": "white",
            "gridwidth": 2,
            "linecolor": "white",
            "showbackground": true,
            "ticks": "",
            "zerolinecolor": "white"
           }
          },
          "shapedefaults": {
           "line": {
            "color": "#2a3f5f"
           }
          },
          "ternary": {
           "aaxis": {
            "gridcolor": "white",
            "linecolor": "white",
            "ticks": ""
           },
           "baxis": {
            "gridcolor": "white",
            "linecolor": "white",
            "ticks": ""
           },
           "bgcolor": "#E5ECF6",
           "caxis": {
            "gridcolor": "white",
            "linecolor": "white",
            "ticks": ""
           }
          },
          "title": {
           "x": 0.05
          },
          "xaxis": {
           "automargin": true,
           "gridcolor": "white",
           "linecolor": "white",
           "ticks": "",
           "title": {
            "standoff": 15
           },
           "zerolinecolor": "white",
           "zerolinewidth": 2
          },
          "yaxis": {
           "automargin": true,
           "gridcolor": "white",
           "linecolor": "white",
           "ticks": "",
           "title": {
            "standoff": 15
           },
           "zerolinecolor": "white",
           "zerolinewidth": 2
          }
         }
        },
        "violingap": 0,
        "violingroupgap": 0.4,
        "violinmode": "overlay",
        "yaxis": {
         "title": {
          "text": "Age"
         }
        }
       }
      }
     },
     "metadata": {},
     "output_type": "display_data"
    }
   ],
   "source": [
    "fig = go.Figure()\n",
    "\n",
    "# männlich\n",
    "fig.add_trace(go.Violin(y=general_data['Age'][ general_data['Sex'] == 'männlich' ],\n",
    "                        scalegroup='Age', name='male')\n",
    "             )\n",
    "# gesamt\n",
    "fig.add_trace(go.Violin(y=general_data['Age'],\n",
    "                        scalegroup='Age', name='all')\n",
    "             )\n",
    "\n",
    "# weiblich\n",
    "fig.add_trace(go.Violin(y=general_data['Age'][ general_data['Sex'] == 'weiblich' ],\n",
    "                        scalegroup='Age', name='female')\n",
    "             )\n",
    "\n",
    "fig.update_traces(meanline_visible=True,\n",
    "                  points='all', # show all points\n",
    "                  jitter=0.5,  # for better visibility\n",
    "                  scalemode='count') # scale with total count\n",
    "\n",
    "fig.update_yaxes(title=\"Age\")\n",
    "\n",
    "fig.update_layout(\n",
    "    #title_text=\"<b>Age</b>\",\n",
    "    showlegend=True,\n",
    "    violingap=0, violingroupgap=0.4, violinmode='overlay')\n",
    "\n",
    "fig.write_image(rf'{export_img_questionnaire}participants-violin.png')\n",
    "fig.write_image(rf'{export_img_questionnaire}participants-violin.svg')\n",
    "\n",
    "fig.show()"
   ]
  },
  {
   "cell_type": "code",
   "execution_count": 59,
   "metadata": {},
   "outputs": [
    {
     "data": {
      "text/plain": [
       "<AxesSubplot:xlabel='Experience_ElasticDisplays', ylabel='Age'>"
      ]
     },
     "execution_count": 59,
     "metadata": {},
     "output_type": "execute_result"
    },
    {
     "data": {
      "image/png": "[encoded data removed]",
      "text/plain": [
       "<Figure size 576x576 with 1 Axes>"
      ]
     },
     "metadata": {},
     "output_type": "display_data"
    },
    {
     "data": {
      "image/png": "[encoded data removed]",
      "text/plain": [
       "<Figure size 576x576 with 1 Axes>"
      ]
     },
     "metadata": {},
     "output_type": "display_data"
    },
    {
     "data": {
      "image/png": "[encoded data removed]",
      "text/plain": [
       "<Figure size 576x288 with 1 Axes>"
      ]
     },
     "metadata": {},
     "output_type": "display_data"
    },
    {
     "data": {
      "image/png": "[encoded data removed]",
      "text/plain": [
       "<Figure size 576x288 with 1 Axes>"
      ]
     },
     "metadata": {},
     "output_type": "display_data"
    },
    {
     "data": {
      "image/png": "[encoded data removed]",
      "text/plain": [
       "<Figure size 576x288 with 1 Axes>"
      ]
     },
     "metadata": {},
     "output_type": "display_data"
    }
   ],
   "source": [
    "fig1, ax1 = plt.subplots(figsize=(8,8))\n",
    "sns.boxplot(data = general_data, x = general_data.Sex, y=general_data.Age)\n",
    "\n",
    "fig2, ax2 = plt.subplots(figsize=(8,8))\n",
    "g = sns.boxplot(data = general_data, x = general_data.Sex, y=general_data.Size)\n",
    "\n",
    "fig3, ax3 = plt.subplots(figsize=(8,4))\n",
    "g = sns.histplot(data = general_data, x = general_data.Size, binwidth=2, hue=general_data.Sex, multiple=\"dodge\")\n",
    "#g.refline(y=general_data.Size.median())\n",
    "\n",
    "fig4, ax4 = plt.subplots(figsize=(8,4))\n",
    "sns.histplot(data = general_data, x = general_data.Age, binwidth=2, hue=general_data.Sex, multiple=\"dodge\")\n",
    "\n",
    "\n",
    "# general_data['Experience_ElasticDisplays'] = pd.Categorical(general_data['Experience_ElasticDisplays'])\n",
    "# general_data['Experience_Vibro'] = pd.Categorical(general_data['Experience_Vibro'])\n",
    "\n",
    "fig5, ax5 = plt.subplots(figsize=(8,4))\n",
    "sns.boxplot(data = general_data, y = general_data.Age, x=general_data.Experience_ElasticDisplays, hue=general_data.Sex)\n",
    "# sns.boxplot(data = general_data, x = general_data.Experience_Vibro, y=general_data.Age, hue=general_data.Sex)\n",
    "#g.refline(y=general_data.Age.median())\n",
    "# ax1.set_xlabel(xLabel)\n",
    "# ax1.set_ylabel(yLabel)\n",
    "# ax1.yaxis.grid(False)\n",
    "# ax1.xaxis.grid(False)\n",
    "# if len(ylim) == 2:\n",
    "#     ax1.set_ylim(ylim[0], ylim[1])\n",
    "\n",
    "# plt.title(title)\n",
    "\n",
    "# if save:  \n",
    "#     fig1.savefig(rf'{export_img}{filename}-box.png')\n",
    "#     fig1.savefig(rf'{export_img}{filename}-box.svg')"
   ]
  }
 ],
 "metadata": {
  "kernelspec": {
   "display_name": "Python 3.8.8",
   "language": "python",
   "name": "python3"
  },
  "language_info": {
   "codemirror_mode": {
    "name": "ipython",
    "version": 3
   },
   "file_extension": ".py",
   "mimetype": "text/x-python",
   "name": "python",
   "nbconvert_exporter": "python",
   "pygments_lexer": "ipython3",
   "version": "3.8.8"
  },
  "orig_nbformat": 4,
  "vscode": {
   "interpreter": {
    "hash": "9df5590c36242588aa2ec08b48d5460772f3434d8fd6d76e09f7949a0a7cd2ae"
   }
  }
 },
 "nbformat": 4,
 "nbformat_minor": 2
}
